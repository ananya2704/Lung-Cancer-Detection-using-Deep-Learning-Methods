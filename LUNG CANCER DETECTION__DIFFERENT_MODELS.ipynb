{
  "nbformat": 4,
  "nbformat_minor": 0,
  "metadata": {
    "colab": {
      "provenance": []
    },
    "kernelspec": {
      "name": "python3",
      "display_name": "Python 3"
    },
    "language_info": {
      "name": "python"
    }
  },
  "cells": [
    {
      "cell_type": "code",
      "execution_count": null,
      "metadata": {
        "id": "xW8kqxOqjuZ3"
      },
      "outputs": [],
      "source": [
        "%config Completer.use_jedi = False\n",
        "import numpy as np \n",
        "import pandas as pd \n",
        "import matplotlib.pyplot as plt\n",
        "import matplotlib.image as mpimg\n",
        "from PIL import Image\n",
        "import seaborn as sns\n",
        "import cv2\n",
        "import random\n",
        "import os\n",
        "import imageio\n",
        "import plotly.graph_objects as go\n",
        "import plotly.express as px\n",
        "import plotly.figure_factory as ff\n",
        "from plotly.subplots import make_subplots\n",
        "from collections import Counter\n",
        "\n",
        "from sklearn.preprocessing import StandardScaler\n",
        "from sklearn.model_selection import train_test_split\n",
        "from sklearn.neighbors import LocalOutlierFactor\n",
        "from sklearn.metrics import accuracy_score, recall_score, precision_score, classification_report, confusion_matrix, plot_confusion_matrix\n",
        "from sklearn.model_selection import RandomizedSearchCV, cross_val_score, RepeatedStratifiedKFold\n",
        "from imblearn.over_sampling import SMOTE\n",
        "\n",
        "import tensorflow as tf\n",
        "\n",
        "import keras\n",
        "from keras.models import Sequential\n",
        "from keras.layers import Dense, Dropout, Activation, Flatten\n",
        "from keras.layers import Conv2D, MaxPooling2D, GlobalAveragePooling2D, BatchNormalization\n",
        "from keras.applications import resnet\n",
        "from tensorflow.keras.applications import EfficientNetB0, EfficientNetB1, EfficientNetB2, EfficientNetB3, EfficientNetB4, EfficientNetB5, EfficientNetB6, EfficientNetB7\n",
        "from keras.applications.resnet import ResNet50\n",
        "from keras_preprocessing.image import load_img\n",
        "from tensorflow.keras import utils\n",
        "from tensorflow.keras.optimizers import Adam\n",
        "from tensorflow.keras.models import Sequential\n",
        "from tensorflow.keras.layers import Dense, Flatten\n",
        "from sklearn.model_selection import train_test_split\n",
        "import matplotlib.pyplot as plt\n",
        "import tensorflow\n",
        "from keras.preprocessing.image import ImageDataGenerator\n",
        "from sklearn.metrics import confusion_matrix\n",
        "import itertools"
      ]
    },
    {
      "cell_type": "markdown",
      "source": [],
      "metadata": {
        "id": "t2Pl4Jw4Kb3g"
      }
    },
    {
      "cell_type": "code",
      "source": [
        "from google.colab import drive\n",
        "drive.mount(\"/content/drive\")"
      ],
      "metadata": {
        "colab": {
          "base_uri": "https://localhost:8080/"
        },
        "id": "PKWCZ7gVjyHf",
        "outputId": "c188b697-8ae0-4db7-bf38-2e74349a19ad"
      },
      "execution_count": null,
      "outputs": [
        {
          "output_type": "stream",
          "name": "stdout",
          "text": [
            "Mounted at /content/drive\n"
          ]
        }
      ]
    },
    {
      "cell_type": "code",
      "source": [
        "%cd /content/drive/My Drive/Btech Project"
      ],
      "metadata": {
        "colab": {
          "base_uri": "https://localhost:8080/"
        },
        "id": "6HVBXglajyKG",
        "outputId": "c3e09cc3-bbd9-47eb-8f96-c1665d2dc074"
      },
      "execution_count": null,
      "outputs": [
        {
          "output_type": "stream",
          "name": "stdout",
          "text": [
            "/content/drive/My Drive/Btech Project\n"
          ]
        }
      ]
    },
    {
      "cell_type": "code",
      "source": [
        "traindir = \"./lung cancer/train\"\n",
        "testdir = \"./lung cancer/test\""
      ],
      "metadata": {
        "id": "xzlZZfCcjyNo"
      },
      "execution_count": null,
      "outputs": []
    },
    {
      "cell_type": "code",
      "source": [
        "uniq_labels = sorted(os.listdir(traindir))"
      ],
      "metadata": {
        "id": "Xc70GM_wniXt"
      },
      "execution_count": null,
      "outputs": []
    },
    {
      "cell_type": "code",
      "source": [
        "def load_data(trainDir,uniqueLabels, size):\n",
        "    images = []\n",
        "    labels = []\n",
        "    #size = 32,32\n",
        "    for idx, label in enumerate(uniqueLabels):\n",
        "        for file in os.listdir(trainDir  +\"/\" + label):\n",
        "          filepath = trainDir + \"/\" + label + \"/\" + file\n",
        "          image = cv2.resize(cv2.imread(filepath), size)\n",
        "          images.append(image)\n",
        "          labels.append(idx)\n",
        "        print(label)\n",
        "    images = np.array(images)\n",
        "    labels = np.array(labels)\n",
        "    return(images, labels)"
      ],
      "metadata": {
        "id": "gOs4Z1wRnibI"
      },
      "execution_count": null,
      "outputs": []
    },
    {
      "cell_type": "code",
      "source": [
        "images, labels = load_data(traindir,uniq_labels, (64,64))\n"
      ],
      "metadata": {
        "colab": {
          "base_uri": "https://localhost:8080/"
        },
        "id": "YlvCq0tgnu3N",
        "outputId": "013f2cb2-430a-43bf-fb90-7d3ac79af4a3"
      },
      "execution_count": null,
      "outputs": [
        {
          "output_type": "stream",
          "name": "stdout",
          "text": [
            "Bengin cases\n",
            "Malignant cases\n",
            "Normal cases\n"
          ]
        }
      ]
    },
    {
      "cell_type": "code",
      "source": [
        "X_test, y_test = load_data(testdir,uniq_labels,(64,64))"
      ],
      "metadata": {
        "colab": {
          "base_uri": "https://localhost:8080/"
        },
        "id": "d6La-MXVvqJI",
        "outputId": "b068f723-1d28-4b25-8567-1f92fa59548b"
      },
      "execution_count": null,
      "outputs": [
        {
          "output_type": "stream",
          "name": "stdout",
          "text": [
            "Bengin cases\n",
            "Malignant cases\n",
            "Normal cases\n"
          ]
        }
      ]
    },
    {
      "cell_type": "code",
      "source": [
        "X_train, X_eval, y_train, y_eval = train_test_split(images, labels, test_size = 0.3, stratify = labels)"
      ],
      "metadata": {
        "id": "l6BwNhzUn4hL"
      },
      "execution_count": null,
      "outputs": []
    },
    {
      "cell_type": "code",
      "source": [
        "train_n = len(X_train)\n",
        "test_n = len(X_test)\n",
        "eval_n = len(X_eval)\n",
        "print(\"Number of training images: \" , train_n)\n",
        "print(\"Number of testing images: \", test_n)\n",
        "\n",
        "\n",
        "print(\"Number of evaluation images: \", eval_n)"
      ],
      "metadata": {
        "colab": {
          "base_uri": "https://localhost:8080/"
        },
        "id": "9a-eDZQmn4qL",
        "outputId": "0337c5c1-3522-4d45-8e5d-2532240815fb"
      },
      "execution_count": null,
      "outputs": [
        {
          "output_type": "stream",
          "name": "stdout",
          "text": [
            "Number of training images:  1619\n",
            "Number of testing images:  30\n",
            "Number of evaluation images:  695\n"
          ]
        }
      ]
    },
    {
      "cell_type": "code",
      "source": [
        "X_train.shape"
      ],
      "metadata": {
        "colab": {
          "base_uri": "https://localhost:8080/"
        },
        "id": "UnjS_GWPL0zl",
        "outputId": "0f26bb0e-0c2a-4c34-8086-931e328636dd"
      },
      "execution_count": null,
      "outputs": [
        {
          "output_type": "execute_result",
          "data": {
            "text/plain": [
              "(1619, 64, 64, 3)"
            ]
          },
          "metadata": {},
          "execution_count": 17
        }
      ]
    },
    {
      "cell_type": "code",
      "source": [
        "y_train = tensorflow.keras.utils.to_categorical(y_train)\n",
        "y_test = tensorflow.keras.utils.to_categorical(y_test)\n",
        "y_eval = tensorflow.keras.utils.to_categorical(y_eval)\n",
        "X_train = X_train.astype('float32')/255.0\n",
        "X_test = X_test.astype('float32')/255.0\n",
        "X_eval = X_eval.astype('float32')/255.0"
      ],
      "metadata": {
        "id": "3KFBV_FpwChY"
      },
      "execution_count": null,
      "outputs": []
    },
    {
      "cell_type": "code",
      "source": [
        "def results(model,history, x_test, y_test):\n",
        "  #rmsProp = tensorflow.keras.optimizers.RMSprop()\n",
        "\n",
        "  #model.compile(optimizer=rmsProp, loss='categorical_crossentropy', metrics=['accuracy'])\n",
        "\n",
        "  #history = model.fit(x_train, y_train, batch_size=batch, epochs=epochs, validation_split=0.1, shuffle = True, verbose=1)\n",
        "  \n",
        "\n",
        "  #model.summary()\n",
        "\n",
        "  plt.figure(figsize=(12, 12))\n",
        "  plt.subplot(3, 2, 1)\n",
        "  plt.plot(history.history['accuracy'], label = 'train_accuracy')\n",
        "  plt.plot(history.history['val_accuracy'], label = 'val_accuracy')\n",
        "  plt.xlabel('epoch')\n",
        "  plt.ylabel('accuracy')\n",
        "  plt.legend()\n",
        "  plt.subplot(3, 2, 2)\n",
        "  plt.plot(history.history['loss'], label = 'train_loss')\n",
        "  plt.plot(history.history['val_loss'], label = 'val_loss')\n",
        "  plt.xlabel('epoch')\n",
        "  plt.ylabel('accuracy')\n",
        "  plt.legend()\n",
        "  test_loss, test_acc = model.evaluate( x_test, y_test)\n",
        "  print('Test accuracy:', test_acc)\n",
        "  print('Test loss:', test_loss)"
      ],
      "metadata": {
        "id": "LlkyMsGlwCvL"
      },
      "execution_count": null,
      "outputs": []
    },
    {
      "cell_type": "code",
      "source": [
        "def plot_confusion_matrix(y, y_pred):\n",
        "    y = np.argmax(y, axis = 1)\n",
        "    y_pred = np.argmax(y_pred, axis = 1)\n",
        "    cm = confusion_matrix(y, y_pred)\n",
        "    plt.figure(figsize = (15, 15))\n",
        "    ax = plt.subplot()\n",
        "    plt.imshow(cm, interpolation = 'nearest', cmap = plt.cm.Purples)\n",
        "    plt.colorbar()\n",
        "    plt.title(\"Confusion Matrix\")\n",
        "    tick_marks = np.arange(len(uniq_labels))\n",
        "    plt.xticks(tick_marks, uniq_labels, rotation=45)\n",
        "    plt.yticks(tick_marks, uniq_labels)\n",
        "    plt.ylabel('True label')\n",
        "    plt.xlabel('Predicted label')\n",
        "    ax.title.set_fontsize(20)\n",
        "    ax.xaxis.label.set_fontsize(16)\n",
        "    ax.yaxis.label.set_fontsize(16)\n",
        "    limit = cm.max() / 2.\n",
        "    for i, j in itertools.product(range(cm.shape[0]), range(cm.shape[1])):\n",
        "        plt.text(j, i, format(cm[i, j], 'd'), horizontalalignment = \"center\",color = \"white\" if cm[i, j] > limit else \"black\")\n",
        "    plt.show()"
      ],
      "metadata": {
        "id": "j5gpKWPrwUbg"
      },
      "execution_count": null,
      "outputs": []
    },
    {
      "cell_type": "code",
      "source": [
        "from keras.preprocessing.image import ImageDataGenerator"
      ],
      "metadata": {
        "id": "xObvx0jUyers"
      },
      "execution_count": null,
      "outputs": []
    },
    {
      "cell_type": "code",
      "source": [
        "train_datagen = ImageDataGenerator(horizontal_flip=True, vertical_flip=True) \n",
        "val_datagen = ImageDataGenerator()"
      ],
      "metadata": {
        "id": "tALxulOoLOS8"
      },
      "execution_count": null,
      "outputs": []
    },
    {
      "cell_type": "code",
      "source": [
        "train_generator = train_datagen.flow(X_train, y_train, batch_size=8) \n",
        "val_generator = val_datagen.flow(X_eval, y_eval, batch_size=8)"
      ],
      "metadata": {
        "id": "dSJFW61RLOVU"
      },
      "execution_count": null,
      "outputs": []
    },
    {
      "cell_type": "code",
      "source": [],
      "metadata": {
        "id": "eALePlMlLOYs"
      },
      "execution_count": null,
      "outputs": []
    },
    {
      "cell_type": "markdown",
      "source": [
        "ALEXNET\n"
      ],
      "metadata": {
        "id": "mnbJ8jrrLfzv"
      }
    },
    {
      "cell_type": "code",
      "source": [
        "model=keras.models.Sequential([\n",
        "    keras.layers.Conv2D(filters=128, kernel_size=(11,11), strides=(4,4), activation='relu', input_shape=(64,64,3)),\n",
        "    keras.layers.BatchNormalization(),\n",
        "    keras.layers.MaxPool2D(pool_size=(2,2)),\n",
        "    keras.layers.Conv2D(filters=256, kernel_size=(5,5), strides=(1,1), activation='relu', padding=\"same\"),\n",
        "    keras.layers.BatchNormalization(),\n",
        "    keras.layers.MaxPool2D(pool_size=(3,3)),\n",
        "    keras.layers.Conv2D(filters=256, kernel_size=(3,3), strides=(1,1), activation='relu', padding=\"same\"),\n",
        "    keras.layers.BatchNormalization(),\n",
        "    keras.layers.Conv2D(filters=256, kernel_size=(1,1), strides=(1,1), activation='relu', padding=\"same\"),\n",
        "    keras.layers.BatchNormalization(),\n",
        "    keras.layers.Conv2D(filters=256, kernel_size=(1,1), strides=(1,1), activation='relu', padding=\"same\"),\n",
        "    keras.layers.BatchNormalization(),\n",
        "    keras.layers.MaxPool2D(pool_size=(2,2)),\n",
        "    keras.layers.Flatten(),\n",
        "    keras.layers.Dense(1024,activation='relu'),\n",
        "    keras.layers.Dropout(0.5),\n",
        "    keras.layers.Dense(1024,activation='relu'),\n",
        "    keras.layers.Dropout(0.5),\n",
        "    keras.layers.Dense(3,activation='softmax')  \n",
        "    \n",
        "    \n",
        "])"
      ],
      "metadata": {
        "id": "3j34VK9xLhPg"
      },
      "execution_count": null,
      "outputs": []
    },
    {
      "cell_type": "code",
      "source": [
        "model.compile(optimizer = \"adam\",\n",
        "              loss=\"categorical_crossentropy\",\n",
        "              metrics=['accuracy'])"
      ],
      "metadata": {
        "id": "Ytm1yEz8LnK0"
      },
      "execution_count": null,
      "outputs": []
    },
    {
      "cell_type": "code",
      "source": [
        "history = model.fit(X_train, y_train, epochs =20, batch_size = 32, validation_data = (X_eval, y_eval))"
      ],
      "metadata": {
        "colab": {
          "base_uri": "https://localhost:8080/"
        },
        "id": "tVqjEOvYLnNN",
        "outputId": "f7dd4fdf-ae77-4103-b82b-84d8dad679eb"
      },
      "execution_count": null,
      "outputs": [
        {
          "output_type": "stream",
          "name": "stdout",
          "text": [
            "Epoch 1/20\n",
            "51/51 [==============================] - 17s 332ms/step - loss: 0.0994 - accuracy: 0.9704 - val_loss: 3.7726 - val_accuracy: 0.4576\n",
            "Epoch 2/20\n",
            "51/51 [==============================] - 17s 331ms/step - loss: 0.0846 - accuracy: 0.9747 - val_loss: 2.9836 - val_accuracy: 0.5957\n",
            "Epoch 3/20\n",
            "51/51 [==============================] - 17s 329ms/step - loss: 0.0555 - accuracy: 0.9852 - val_loss: 2.1124 - val_accuracy: 0.5022\n",
            "Epoch 4/20\n",
            "51/51 [==============================] - 17s 327ms/step - loss: 0.0470 - accuracy: 0.9858 - val_loss: 3.9239 - val_accuracy: 0.5309\n",
            "Epoch 5/20\n",
            "51/51 [==============================] - 18s 363ms/step - loss: 0.0388 - accuracy: 0.9858 - val_loss: 14.4914 - val_accuracy: 0.4849\n",
            "Epoch 6/20\n",
            "51/51 [==============================] - 17s 330ms/step - loss: 0.1012 - accuracy: 0.9710 - val_loss: 0.3426 - val_accuracy: 0.9050\n",
            "Epoch 7/20\n",
            "51/51 [==============================] - 17s 329ms/step - loss: 0.0400 - accuracy: 0.9914 - val_loss: 0.7576 - val_accuracy: 0.7799\n",
            "Epoch 8/20\n",
            "51/51 [==============================] - 17s 332ms/step - loss: 0.0357 - accuracy: 0.9920 - val_loss: 0.2619 - val_accuracy: 0.9151\n",
            "Epoch 9/20\n",
            "51/51 [==============================] - 17s 332ms/step - loss: 0.0296 - accuracy: 0.9944 - val_loss: 0.7667 - val_accuracy: 0.8374\n",
            "Epoch 10/20\n",
            "51/51 [==============================] - 17s 334ms/step - loss: 0.0378 - accuracy: 0.9870 - val_loss: 0.1703 - val_accuracy: 0.9324\n",
            "Epoch 11/20\n",
            "51/51 [==============================] - 17s 334ms/step - loss: 0.0188 - accuracy: 0.9944 - val_loss: 0.1799 - val_accuracy: 0.9424\n",
            "Epoch 12/20\n",
            "51/51 [==============================] - 17s 332ms/step - loss: 0.0715 - accuracy: 0.9796 - val_loss: 0.0823 - val_accuracy: 0.9669\n",
            "Epoch 13/20\n",
            "51/51 [==============================] - 17s 332ms/step - loss: 0.0366 - accuracy: 0.9889 - val_loss: 0.3668 - val_accuracy: 0.8604\n",
            "Epoch 14/20\n",
            "51/51 [==============================] - 17s 332ms/step - loss: 0.0338 - accuracy: 0.9907 - val_loss: 0.5858 - val_accuracy: 0.8432\n",
            "Epoch 15/20\n",
            "51/51 [==============================] - 17s 330ms/step - loss: 0.0438 - accuracy: 0.9895 - val_loss: 0.5056 - val_accuracy: 0.8964\n",
            "Epoch 16/20\n",
            "51/51 [==============================] - 17s 331ms/step - loss: 0.0825 - accuracy: 0.9747 - val_loss: 3.0645 - val_accuracy: 0.5683\n",
            "Epoch 17/20\n",
            "51/51 [==============================] - 17s 329ms/step - loss: 0.0670 - accuracy: 0.9802 - val_loss: 0.9095 - val_accuracy: 0.8086\n",
            "Epoch 18/20\n",
            "51/51 [==============================] - 17s 327ms/step - loss: 0.0274 - accuracy: 0.9914 - val_loss: 0.4274 - val_accuracy: 0.8604\n",
            "Epoch 19/20\n",
            "51/51 [==============================] - 18s 364ms/step - loss: 0.0504 - accuracy: 0.9889 - val_loss: 0.4121 - val_accuracy: 0.8921\n",
            "Epoch 20/20\n",
            "51/51 [==============================] - 17s 328ms/step - loss: 0.0552 - accuracy: 0.9839 - val_loss: 0.8719 - val_accuracy: 0.8288\n"
          ]
        }
      ]
    },
    {
      "cell_type": "code",
      "source": [
        "model.save('AlexNet.h5')"
      ],
      "metadata": {
        "id": "jhs4_dMuLnQn"
      },
      "execution_count": null,
      "outputs": []
    },
    {
      "cell_type": "code",
      "source": [
        "history_all = {}\n",
        "# Save history    \n",
        "if len(history_all) == 0:\n",
        "    history_all = {key: [] for key in history.history}\n",
        "\n",
        "for key in history_all:\n",
        "    history_all[key].extend(history.history[key])"
      ],
      "metadata": {
        "id": "9nJxPBoEO7Fx"
      },
      "execution_count": null,
      "outputs": []
    },
    {
      "cell_type": "code",
      "source": [
        "def show_train_history(history, xlabel, ylabel, train, title):\n",
        "    for item in train:\n",
        "        plt.plot(history[item])\n",
        "    plt.title(title)\n",
        "    plt.xlabel(xlabel)\n",
        "    plt.ylabel(ylabel)\n",
        "    plt.legend(train, loc='upper left')\n",
        "    plt.show()"
      ],
      "metadata": {
        "id": "5aMNAedoO7IU"
      },
      "execution_count": null,
      "outputs": []
    },
    {
      "cell_type": "code",
      "source": [
        "model.metrics_names"
      ],
      "metadata": {
        "colab": {
          "base_uri": "https://localhost:8080/"
        },
        "id": "IEiY8683O7Kz",
        "outputId": "ab18ff69-34b6-45e3-c06a-59c9663ffaa0"
      },
      "execution_count": null,
      "outputs": [
        {
          "output_type": "execute_result",
          "data": {
            "text/plain": [
              "['loss', 'accuracy']"
            ]
          },
          "metadata": {},
          "execution_count": 42
        }
      ]
    },
    {
      "cell_type": "code",
      "source": [
        "show_train_history(history_all, 'Epoch', 'Accuracy', ('accuracy',), 'Training history')\n",
        "show_train_history(history_all, 'Epoch', 'Loss', ('loss',), 'Training history')\n",
        "show_train_history(history_all, 'Epoch', 'Accuracy', ('val_accuracy',), 'Validation history')\n",
        "show_train_history(history_all, 'Epoch', 'Loss', ('val_loss',), 'Validation history')"
      ],
      "metadata": {
        "colab": {
          "base_uri": "https://localhost:8080/",
          "height": 1000
        },
        "id": "adXgX5BnO7NH",
        "outputId": "461f1257-c5ad-4200-8953-db8120a203c1"
      },
      "execution_count": null,
      "outputs": [
        {
          "output_type": "display_data",
          "data": {
            "text/plain": [
              "<Figure size 432x288 with 1 Axes>"
            ],
            "image/png": "[encoded data removed]"
          },
          "metadata": {
            "needs_background": "light"
          }
        },
        {
          "output_type": "display_data",
          "data": {
            "text/plain": [
              "<Figure size 432x288 with 1 Axes>"
            ],
            "image/png": "[encoded data removed]"
          },
          "metadata": {
            "needs_background": "light"
          }
        },
        {
          "output_type": "display_data",
          "data": {
            "text/plain": [
              "<Figure size 432x288 with 1 Axes>"
            ],
            "image/png": "[encoded data removed]"
          },
          "metadata": {
            "needs_background": "light"
          }
        },
        {
          "output_type": "display_data",
          "data": {
            "text/plain": [
              "<Figure size 432x288 with 1 Axes>"
            ],
            "image/png": "[encoded data removed]"
          },
          "metadata": {
            "needs_background": "light"
          }
        }
      ]
    },
    {
      "cell_type": "code",
      "source": [
        "model.summary()"
      ],
      "metadata": {
        "colab": {
          "base_uri": "https://localhost:8080/"
        },
        "id": "hTmZScQ9O7Qp",
        "outputId": "a6beaa56-6b87-486c-df8d-f589e6d4c39c"
      },
      "execution_count": null,
      "outputs": [
        {
          "output_type": "stream",
          "name": "stdout",
          "text": [
            "Model: \"sequential_2\"\n",
            "_________________________________________________________________\n",
            " Layer (type)                Output Shape              Param #   \n",
            "=================================================================\n",
            " conv2d_10 (Conv2D)          (None, 14, 14, 128)       46592     \n",
            "                                                                 \n",
            " batch_normalization_10 (Bat  (None, 14, 14, 128)      512       \n",
            " chNormalization)                                                \n",
            "                                                                 \n",
            " max_pooling2d_6 (MaxPooling  (None, 7, 7, 128)        0         \n",
            " 2D)                                                             \n",
            "                                                                 \n",
            " conv2d_11 (Conv2D)          (None, 7, 7, 256)         819456    \n",
            "                                                                 \n",
            " batch_normalization_11 (Bat  (None, 7, 7, 256)        1024      \n",
            " chNormalization)                                                \n",
            "                                                                 \n",
            " max_pooling2d_7 (MaxPooling  (None, 2, 2, 256)        0         \n",
            " 2D)                                                             \n",
            "                                                                 \n",
            " conv2d_12 (Conv2D)          (None, 2, 2, 256)         590080    \n",
            "                                                                 \n",
            " batch_normalization_12 (Bat  (None, 2, 2, 256)        1024      \n",
            " chNormalization)                                                \n",
            "                                                                 \n",
            " conv2d_13 (Conv2D)          (None, 2, 2, 256)         65792     \n",
            "                                                                 \n",
            " batch_normalization_13 (Bat  (None, 2, 2, 256)        1024      \n",
            " chNormalization)                                                \n",
            "                                                                 \n",
            " conv2d_14 (Conv2D)          (None, 2, 2, 256)         65792     \n",
            "                                                                 \n",
            " batch_normalization_14 (Bat  (None, 2, 2, 256)        1024      \n",
            " chNormalization)                                                \n",
            "                                                                 \n",
            " max_pooling2d_8 (MaxPooling  (None, 1, 1, 256)        0         \n",
            " 2D)                                                             \n",
            "                                                                 \n",
            " flatten_2 (Flatten)         (None, 256)               0         \n",
            "                                                                 \n",
            " dense_6 (Dense)             (None, 1024)              263168    \n",
            "                                                                 \n",
            " dropout_4 (Dropout)         (None, 1024)              0         \n",
            "                                                                 \n",
            " dense_7 (Dense)             (None, 1024)              1049600   \n",
            "                                                                 \n",
            " dropout_5 (Dropout)         (None, 1024)              0         \n",
            "                                                                 \n",
            " dense_8 (Dense)             (None, 3)                 3075      \n",
            "                                                                 \n",
            "=================================================================\n",
            "Total params: 2,908,163\n",
            "Trainable params: 2,905,859\n",
            "Non-trainable params: 2,304\n",
            "_________________________________________________________________\n"
          ]
        }
      ]
    },
    {
      "cell_type": "code",
      "source": [
        "results(model,history, X_test, y_test)"
      ],
      "metadata": {
        "colab": {
          "base_uri": "https://localhost:8080/",
          "height": 308
        },
        "id": "OozW8c0LPSip",
        "outputId": "0e214c1e-744b-42af-f7c5-8ad8496b55c3"
      },
      "execution_count": null,
      "outputs": [
        {
          "output_type": "stream",
          "name": "stdout",
          "text": [
            "1/1 [==============================] - 0s 72ms/step - loss: 1.8910 - accuracy: 0.7000\n",
            "Test accuracy: 0.699999988079071\n",
            "Test loss: 1.89101243019104\n"
          ]
        },
        {
          "output_type": "display_data",
          "data": {
            "text/plain": [
              "<Figure size 864x864 with 2 Axes>"
            ],
            "image/png": "[encoded data removed]"
          },
          "metadata": {
            "needs_background": "light"
          }
        }
      ]
    },
    {
      "cell_type": "code",
      "source": [],
      "metadata": {
        "id": "VOE2ytK-PSnQ"
      },
      "execution_count": null,
      "outputs": []
    },
    {
      "cell_type": "markdown",
      "source": [
        "IF WE USE THE AUGMENTATED DATA"
      ],
      "metadata": {
        "id": "z_0txHrQP2oo"
      }
    },
    {
      "cell_type": "code",
      "source": [
        "history = model.fit_generator(train_generator, epochs=10,validation_data=val_generator)"
      ],
      "metadata": {
        "colab": {
          "base_uri": "https://localhost:8080/"
        },
        "id": "fXIz6lShPSpb",
        "outputId": "55b98c02-db03-48f1-bf29-3ca545eed7a8"
      },
      "execution_count": null,
      "outputs": [
        {
          "output_type": "stream",
          "name": "stdout",
          "text": [
            "Epoch 1/10\n",
            "  1/203 [..............................] - ETA: 21s - loss: 0.0029 - accuracy: 1.0000"
          ]
        },
        {
          "output_type": "stream",
          "name": "stderr",
          "text": [
            "/usr/local/lib/python3.7/dist-packages/ipykernel_launcher.py:1: UserWarning: `Model.fit_generator` is deprecated and will be removed in a future version. Please use `Model.fit`, which supports generators.\n",
            "  \"\"\"Entry point for launching an IPython kernel.\n"
          ]
        },
        {
          "output_type": "stream",
          "name": "stdout",
          "text": [
            "203/203 [==============================] - 21s 105ms/step - loss: 0.1301 - accuracy: 0.9648 - val_loss: 1.5681 - val_accuracy: 0.6950\n",
            "Epoch 2/10\n",
            "203/203 [==============================] - 21s 105ms/step - loss: 0.1255 - accuracy: 0.9704 - val_loss: 0.0738 - val_accuracy: 0.9683\n",
            "Epoch 3/10\n",
            "203/203 [==============================] - 21s 105ms/step - loss: 0.1319 - accuracy: 0.9642 - val_loss: 1.4541 - val_accuracy: 0.7353\n",
            "Epoch 4/10\n",
            "203/203 [==============================] - 21s 105ms/step - loss: 0.0681 - accuracy: 0.9846 - val_loss: 0.1023 - val_accuracy: 0.9655\n",
            "Epoch 5/10\n",
            "203/203 [==============================] - 21s 106ms/step - loss: 0.1576 - accuracy: 0.9568 - val_loss: 0.4265 - val_accuracy: 0.7885\n",
            "Epoch 6/10\n",
            "203/203 [==============================] - 23s 114ms/step - loss: 0.0962 - accuracy: 0.9734 - val_loss: 0.0952 - val_accuracy: 0.9655\n",
            "Epoch 7/10\n",
            "203/203 [==============================] - 21s 106ms/step - loss: 0.1082 - accuracy: 0.9685 - val_loss: 0.3282 - val_accuracy: 0.9108\n",
            "Epoch 8/10\n",
            "203/203 [==============================] - 21s 105ms/step - loss: 0.1283 - accuracy: 0.9654 - val_loss: 0.1018 - val_accuracy: 0.9727\n",
            "Epoch 9/10\n",
            "203/203 [==============================] - 22s 106ms/step - loss: 0.0927 - accuracy: 0.9778 - val_loss: 0.0991 - val_accuracy: 0.9712\n",
            "Epoch 10/10\n",
            "203/203 [==============================] - 22s 106ms/step - loss: 0.0790 - accuracy: 0.9771 - val_loss: 0.0666 - val_accuracy: 0.9770\n"
          ]
        }
      ]
    },
    {
      "cell_type": "code",
      "source": [
        "results(model,history, X_test, y_test)"
      ],
      "metadata": {
        "colab": {
          "base_uri": "https://localhost:8080/",
          "height": 308
        },
        "id": "xXr1p1B1PSr2",
        "outputId": "a5f70d25-6610-434a-fdf3-477fdfb2b31b"
      },
      "execution_count": null,
      "outputs": [
        {
          "output_type": "stream",
          "name": "stdout",
          "text": [
            "1/1 [==============================] - 0s 74ms/step - loss: 0.1126 - accuracy: 0.9667\n",
            "Test accuracy: 0.9666666388511658\n",
            "Test loss: 0.11262353509664536\n"
          ]
        },
        {
          "output_type": "display_data",
          "data": {
            "text/plain": [
              "<Figure size 864x864 with 2 Axes>"
            ],
            "image/png": "[encoded data removed]"
          },
          "metadata": {
            "needs_background": "light"
          }
        }
      ]
    },
    {
      "cell_type": "code",
      "source": [
        "y_test_pred = model.predict(X_test, batch_size = 32, verbose = 0)\n",
        "plot_confusion_matrix(y_test, y_test_pred)"
      ],
      "metadata": {
        "colab": {
          "base_uri": "https://localhost:8080/",
          "height": 868
        },
        "id": "7_pTZ8HiPSuR",
        "outputId": "ee61ff16-cdbe-4cbf-cef8-ec996f57cb5d"
      },
      "execution_count": null,
      "outputs": [
        {
          "output_type": "display_data",
          "data": {
            "text/plain": [
              "<Figure size 1080x1080 with 2 Axes>"
            ],
            "image/png": "[encoded data removed]"
          },
          "metadata": {
            "needs_background": "light"
          }
        }
      ]
    },
    {
      "cell_type": "code",
      "source": [],
      "metadata": {
        "id": "bziLvsvLPSww"
      },
      "execution_count": null,
      "outputs": []
    },
    {
      "cell_type": "code",
      "source": [],
      "metadata": {
        "id": "h9ZROme0PTBT"
      },
      "execution_count": null,
      "outputs": []
    },
    {
      "cell_type": "markdown",
      "source": [
        "*****RESNET50*****\n"
      ],
      "metadata": {
        "id": "zmZ-9h2hye-b"
      }
    },
    {
      "cell_type": "code",
      "source": [
        "from tensorflow.keras.applications.resnet50 import ResNet50"
      ],
      "metadata": {
        "id": "3sGnIxpTwUd5"
      },
      "execution_count": null,
      "outputs": []
    },
    {
      "cell_type": "code",
      "source": [
        "resModel2 = ResNet50(include_top = False, input_shape = (64, 64,3), weights = 'imagenet')"
      ],
      "metadata": {
        "id": "IjUNoXXowUgu",
        "colab": {
          "base_uri": "https://localhost:8080/"
        },
        "outputId": "2abf4ac9-09cd-4d14-f013-ab5f658c6119"
      },
      "execution_count": null,
      "outputs": [
        {
          "output_type": "stream",
          "name": "stdout",
          "text": [
            "Downloading data from https://storage.googleapis.com/tensorflow/keras-applications/resnet/resnet50_weights_tf_dim_ordering_tf_kernels_notop.h5\n",
            "94765736/94765736 [==============================] - 1s 0us/step\n"
          ]
        }
      ]
    },
    {
      "cell_type": "code",
      "source": [
        "resModel2.summary()"
      ],
      "metadata": {
        "colab": {
          "base_uri": "https://localhost:8080/"
        },
        "id": "3ZR21V41wUkN",
        "outputId": "a762b7eb-c0a6-433e-fc32-e2f3be8ffdb3"
      },
      "execution_count": null,
      "outputs": [
        {
          "output_type": "stream",
          "name": "stdout",
          "text": [
            "Model: \"resnet50\"\n",
            "__________________________________________________________________________________________________\n",
            " Layer (type)                   Output Shape         Param #     Connected to                     \n",
            "==================================================================================================\n",
            " input_1 (InputLayer)           [(None, 64, 64, 3)]  0           []                               \n",
            "                                                                                                  \n",
            " conv1_pad (ZeroPadding2D)      (None, 70, 70, 3)    0           ['input_1[0][0]']                \n",
            "                                                                                                  \n",
            " conv1_conv (Conv2D)            (None, 32, 32, 64)   9472        ['conv1_pad[0][0]']              \n",
            "                                                                                                  \n",
            " conv1_bn (BatchNormalization)  (None, 32, 32, 64)   256         ['conv1_conv[0][0]']             \n",
            "                                                                                                  \n",
            " conv1_relu (Activation)        (None, 32, 32, 64)   0           ['conv1_bn[0][0]']               \n",
            "                                                                                                  \n",
            " pool1_pad (ZeroPadding2D)      (None, 34, 34, 64)   0           ['conv1_relu[0][0]']             \n",
            "                                                                                                  \n",
            " pool1_pool (MaxPooling2D)      (None, 16, 16, 64)   0           ['pool1_pad[0][0]']              \n",
            "                                                                                                  \n",
            " conv2_block1_1_conv (Conv2D)   (None, 16, 16, 64)   4160        ['pool1_pool[0][0]']             \n",
            "                                                                                                  \n",
            " conv2_block1_1_bn (BatchNormal  (None, 16, 16, 64)  256         ['conv2_block1_1_conv[0][0]']    \n",
            " ization)                                                                                         \n",
            "                                                                                                  \n",
            " conv2_block1_1_relu (Activatio  (None, 16, 16, 64)  0           ['conv2_block1_1_bn[0][0]']      \n",
            " n)                                                                                               \n",
            "                                                                                                  \n",
            " conv2_block1_2_conv (Conv2D)   (None, 16, 16, 64)   36928       ['conv2_block1_1_relu[0][0]']    \n",
            "                                                                                                  \n",
            " conv2_block1_2_bn (BatchNormal  (None, 16, 16, 64)  256         ['conv2_block1_2_conv[0][0]']    \n",
            " ization)                                                                                         \n",
            "                                                                                                  \n",
            " conv2_block1_2_relu (Activatio  (None, 16, 16, 64)  0           ['conv2_block1_2_bn[0][0]']      \n",
            " n)                                                                                               \n",
            "                                                                                                  \n",
            " conv2_block1_0_conv (Conv2D)   (None, 16, 16, 256)  16640       ['pool1_pool[0][0]']             \n",
            "                                                                                                  \n",
            " conv2_block1_3_conv (Conv2D)   (None, 16, 16, 256)  16640       ['conv2_block1_2_relu[0][0]']    \n",
            "                                                                                                  \n",
            " conv2_block1_0_bn (BatchNormal  (None, 16, 16, 256)  1024       ['conv2_block1_0_conv[0][0]']    \n",
            " ization)                                                                                         \n",
            "                                                                                                  \n",
            " conv2_block1_3_bn (BatchNormal  (None, 16, 16, 256)  1024       ['conv2_block1_3_conv[0][0]']    \n",
            " ization)                                                                                         \n",
            "                                                                                                  \n",
            " conv2_block1_add (Add)         (None, 16, 16, 256)  0           ['conv2_block1_0_bn[0][0]',      \n",
            "                                                                  'conv2_block1_3_bn[0][0]']      \n",
            "                                                                                                  \n",
            " conv2_block1_out (Activation)  (None, 16, 16, 256)  0           ['conv2_block1_add[0][0]']       \n",
            "                                                                                                  \n",
            " conv2_block2_1_conv (Conv2D)   (None, 16, 16, 64)   16448       ['conv2_block1_out[0][0]']       \n",
            "                                                                                                  \n",
            " conv2_block2_1_bn (BatchNormal  (None, 16, 16, 64)  256         ['conv2_block2_1_conv[0][0]']    \n",
            " ization)                                                                                         \n",
            "                                                                                                  \n",
            " conv2_block2_1_relu (Activatio  (None, 16, 16, 64)  0           ['conv2_block2_1_bn[0][0]']      \n",
            " n)                                                                                               \n",
            "                                                                                                  \n",
            " conv2_block2_2_conv (Conv2D)   (None, 16, 16, 64)   36928       ['conv2_block2_1_relu[0][0]']    \n",
            "                                                                                                  \n",
            " conv2_block2_2_bn (BatchNormal  (None, 16, 16, 64)  256         ['conv2_block2_2_conv[0][0]']    \n",
            " ization)                                                                                         \n",
            "                                                                                                  \n",
            " conv2_block2_2_relu (Activatio  (None, 16, 16, 64)  0           ['conv2_block2_2_bn[0][0]']      \n",
            " n)                                                                                               \n",
            "                                                                                                  \n",
            " conv2_block2_3_conv (Conv2D)   (None, 16, 16, 256)  16640       ['conv2_block2_2_relu[0][0]']    \n",
            "                                                                                                  \n",
            " conv2_block2_3_bn (BatchNormal  (None, 16, 16, 256)  1024       ['conv2_block2_3_conv[0][0]']    \n",
            " ization)                                                                                         \n",
            "                                                                                                  \n",
            " conv2_block2_add (Add)         (None, 16, 16, 256)  0           ['conv2_block1_out[0][0]',       \n",
            "                                                                  'conv2_block2_3_bn[0][0]']      \n",
            "                                                                                                  \n",
            " conv2_block2_out (Activation)  (None, 16, 16, 256)  0           ['conv2_block2_add[0][0]']       \n",
            "                                                                                                  \n",
            " conv2_block3_1_conv (Conv2D)   (None, 16, 16, 64)   16448       ['conv2_block2_out[0][0]']       \n",
            "                                                                                                  \n",
            " conv2_block3_1_bn (BatchNormal  (None, 16, 16, 64)  256         ['conv2_block3_1_conv[0][0]']    \n",
            " ization)                                                                                         \n",
            "                                                                                                  \n",
            " conv2_block3_1_relu (Activatio  (None, 16, 16, 64)  0           ['conv2_block3_1_bn[0][0]']      \n",
            " n)                                                                                               \n",
            "                                                                                                  \n",
            " conv2_block3_2_conv (Conv2D)   (None, 16, 16, 64)   36928       ['conv2_block3_1_relu[0][0]']    \n",
            "                                                                                                  \n",
            " conv2_block3_2_bn (BatchNormal  (None, 16, 16, 64)  256         ['conv2_block3_2_conv[0][0]']    \n",
            " ization)                                                                                         \n",
            "                                                                                                  \n",
            " conv2_block3_2_relu (Activatio  (None, 16, 16, 64)  0           ['conv2_block3_2_bn[0][0]']      \n",
            " n)                                                                                               \n",
            "                                                                                                  \n",
            " conv2_block3_3_conv (Conv2D)   (None, 16, 16, 256)  16640       ['conv2_block3_2_relu[0][0]']    \n",
            "                                                                                                  \n",
            " conv2_block3_3_bn (BatchNormal  (None, 16, 16, 256)  1024       ['conv2_block3_3_conv[0][0]']    \n",
            " ization)                                                                                         \n",
            "                                                                                                  \n",
            " conv2_block3_add (Add)         (None, 16, 16, 256)  0           ['conv2_block2_out[0][0]',       \n",
            "                                                                  'conv2_block3_3_bn[0][0]']      \n",
            "                                                                                                  \n",
            " conv2_block3_out (Activation)  (None, 16, 16, 256)  0           ['conv2_block3_add[0][0]']       \n",
            "                                                                                                  \n",
            " conv3_block1_1_conv (Conv2D)   (None, 8, 8, 128)    32896       ['conv2_block3_out[0][0]']       \n",
            "                                                                                                  \n",
            " conv3_block1_1_bn (BatchNormal  (None, 8, 8, 128)   512         ['conv3_block1_1_conv[0][0]']    \n",
            " ization)                                                                                         \n",
            "                                                                                                  \n",
            " conv3_block1_1_relu (Activatio  (None, 8, 8, 128)   0           ['conv3_block1_1_bn[0][0]']      \n",
            " n)                                                                                               \n",
            "                                                                                                  \n",
            " conv3_block1_2_conv (Conv2D)   (None, 8, 8, 128)    147584      ['conv3_block1_1_relu[0][0]']    \n",
            "                                                                                                  \n",
            " conv3_block1_2_bn (BatchNormal  (None, 8, 8, 128)   512         ['conv3_block1_2_conv[0][0]']    \n",
            " ization)                                                                                         \n",
            "                                                                                                  \n",
            " conv3_block1_2_relu (Activatio  (None, 8, 8, 128)   0           ['conv3_block1_2_bn[0][0]']      \n",
            " n)                                                                                               \n",
            "                                                                                                  \n",
            " conv3_block1_0_conv (Conv2D)   (None, 8, 8, 512)    131584      ['conv2_block3_out[0][0]']       \n",
            "                                                                                                  \n",
            " conv3_block1_3_conv (Conv2D)   (None, 8, 8, 512)    66048       ['conv3_block1_2_relu[0][0]']    \n",
            "                                                                                                  \n",
            " conv3_block1_0_bn (BatchNormal  (None, 8, 8, 512)   2048        ['conv3_block1_0_conv[0][0]']    \n",
            " ization)                                                                                         \n",
            "                                                                                                  \n",
            " conv3_block1_3_bn (BatchNormal  (None, 8, 8, 512)   2048        ['conv3_block1_3_conv[0][0]']    \n",
            " ization)                                                                                         \n",
            "                                                                                                  \n",
            " conv3_block1_add (Add)         (None, 8, 8, 512)    0           ['conv3_block1_0_bn[0][0]',      \n",
            "                                                                  'conv3_block1_3_bn[0][0]']      \n",
            "                                                                                                  \n",
            " conv3_block1_out (Activation)  (None, 8, 8, 512)    0           ['conv3_block1_add[0][0]']       \n",
            "                                                                                                  \n",
            " conv3_block2_1_conv (Conv2D)   (None, 8, 8, 128)    65664       ['conv3_block1_out[0][0]']       \n",
            "                                                                                                  \n",
            " conv3_block2_1_bn (BatchNormal  (None, 8, 8, 128)   512         ['conv3_block2_1_conv[0][0]']    \n",
            " ization)                                                                                         \n",
            "                                                                                                  \n",
            " conv3_block2_1_relu (Activatio  (None, 8, 8, 128)   0           ['conv3_block2_1_bn[0][0]']      \n",
            " n)                                                                                               \n",
            "                                                                                                  \n",
            " conv3_block2_2_conv (Conv2D)   (None, 8, 8, 128)    147584      ['conv3_block2_1_relu[0][0]']    \n",
            "                                                                                                  \n",
            " conv3_block2_2_bn (BatchNormal  (None, 8, 8, 128)   512         ['conv3_block2_2_conv[0][0]']    \n",
            " ization)                                                                                         \n",
            "                                                                                                  \n",
            " conv3_block2_2_relu (Activatio  (None, 8, 8, 128)   0           ['conv3_block2_2_bn[0][0]']      \n",
            " n)                                                                                               \n",
            "                                                                                                  \n",
            " conv3_block2_3_conv (Conv2D)   (None, 8, 8, 512)    66048       ['conv3_block2_2_relu[0][0]']    \n",
            "                                                                                                  \n",
            " conv3_block2_3_bn (BatchNormal  (None, 8, 8, 512)   2048        ['conv3_block2_3_conv[0][0]']    \n",
            " ization)                                                                                         \n",
            "                                                                                                  \n",
            " conv3_block2_add (Add)         (None, 8, 8, 512)    0           ['conv3_block1_out[0][0]',       \n",
            "                                                                  'conv3_block2_3_bn[0][0]']      \n",
            "                                                                                                  \n",
            " conv3_block2_out (Activation)  (None, 8, 8, 512)    0           ['conv3_block2_add[0][0]']       \n",
            "                                                                                                  \n",
            " conv3_block3_1_conv (Conv2D)   (None, 8, 8, 128)    65664       ['conv3_block2_out[0][0]']       \n",
            "                                                                                                  \n",
            " conv3_block3_1_bn (BatchNormal  (None, 8, 8, 128)   512         ['conv3_block3_1_conv[0][0]']    \n",
            " ization)                                                                                         \n",
            "                                                                                                  \n",
            " conv3_block3_1_relu (Activatio  (None, 8, 8, 128)   0           ['conv3_block3_1_bn[0][0]']      \n",
            " n)                                                                                               \n",
            "                                                                                                  \n",
            " conv3_block3_2_conv (Conv2D)   (None, 8, 8, 128)    147584      ['conv3_block3_1_relu[0][0]']    \n",
            "                                                                                                  \n",
            " conv3_block3_2_bn (BatchNormal  (None, 8, 8, 128)   512         ['conv3_block3_2_conv[0][0]']    \n",
            " ization)                                                                                         \n",
            "                                                                                                  \n",
            " conv3_block3_2_relu (Activatio  (None, 8, 8, 128)   0           ['conv3_block3_2_bn[0][0]']      \n",
            " n)                                                                                               \n",
            "                                                                                                  \n",
            " conv3_block3_3_conv (Conv2D)   (None, 8, 8, 512)    66048       ['conv3_block3_2_relu[0][0]']    \n",
            "                                                                                                  \n",
            " conv3_block3_3_bn (BatchNormal  (None, 8, 8, 512)   2048        ['conv3_block3_3_conv[0][0]']    \n",
            " ization)                                                                                         \n",
            "                                                                                                  \n",
            " conv3_block3_add (Add)         (None, 8, 8, 512)    0           ['conv3_block2_out[0][0]',       \n",
            "                                                                  'conv3_block3_3_bn[0][0]']      \n",
            "                                                                                                  \n",
            " conv3_block3_out (Activation)  (None, 8, 8, 512)    0           ['conv3_block3_add[0][0]']       \n",
            "                                                                                                  \n",
            " conv3_block4_1_conv (Conv2D)   (None, 8, 8, 128)    65664       ['conv3_block3_out[0][0]']       \n",
            "                                                                                                  \n",
            " conv3_block4_1_bn (BatchNormal  (None, 8, 8, 128)   512         ['conv3_block4_1_conv[0][0]']    \n",
            " ization)                                                                                         \n",
            "                                                                                                  \n",
            " conv3_block4_1_relu (Activatio  (None, 8, 8, 128)   0           ['conv3_block4_1_bn[0][0]']      \n",
            " n)                                                                                               \n",
            "                                                                                                  \n",
            " conv3_block4_2_conv (Conv2D)   (None, 8, 8, 128)    147584      ['conv3_block4_1_relu[0][0]']    \n",
            "                                                                                                  \n",
            " conv3_block4_2_bn (BatchNormal  (None, 8, 8, 128)   512         ['conv3_block4_2_conv[0][0]']    \n",
            " ization)                                                                                         \n",
            "                                                                                                  \n",
            " conv3_block4_2_relu (Activatio  (None, 8, 8, 128)   0           ['conv3_block4_2_bn[0][0]']      \n",
            " n)                                                                                               \n",
            "                                                                                                  \n",
            " conv3_block4_3_conv (Conv2D)   (None, 8, 8, 512)    66048       ['conv3_block4_2_relu[0][0]']    \n",
            "                                                                                                  \n",
            " conv3_block4_3_bn (BatchNormal  (None, 8, 8, 512)   2048        ['conv3_block4_3_conv[0][0]']    \n",
            " ization)                                                                                         \n",
            "                                                                                                  \n",
            " conv3_block4_add (Add)         (None, 8, 8, 512)    0           ['conv3_block3_out[0][0]',       \n",
            "                                                                  'conv3_block4_3_bn[0][0]']      \n",
            "                                                                                                  \n",
            " conv3_block4_out (Activation)  (None, 8, 8, 512)    0           ['conv3_block4_add[0][0]']       \n",
            "                                                                                                  \n",
            " conv4_block1_1_conv (Conv2D)   (None, 4, 4, 256)    131328      ['conv3_block4_out[0][0]']       \n",
            "                                                                                                  \n",
            " conv4_block1_1_bn (BatchNormal  (None, 4, 4, 256)   1024        ['conv4_block1_1_conv[0][0]']    \n",
            " ization)                                                                                         \n",
            "                                                                                                  \n",
            " conv4_block1_1_relu (Activatio  (None, 4, 4, 256)   0           ['conv4_block1_1_bn[0][0]']      \n",
            " n)                                                                                               \n",
            "                                                                                                  \n",
            " conv4_block1_2_conv (Conv2D)   (None, 4, 4, 256)    590080      ['conv4_block1_1_relu[0][0]']    \n",
            "                                                                                                  \n",
            " conv4_block1_2_bn (BatchNormal  (None, 4, 4, 256)   1024        ['conv4_block1_2_conv[0][0]']    \n",
            " ization)                                                                                         \n",
            "                                                                                                  \n",
            " conv4_block1_2_relu (Activatio  (None, 4, 4, 256)   0           ['conv4_block1_2_bn[0][0]']      \n",
            " n)                                                                                               \n",
            "                                                                                                  \n",
            " conv4_block1_0_conv (Conv2D)   (None, 4, 4, 1024)   525312      ['conv3_block4_out[0][0]']       \n",
            "                                                                                                  \n",
            " conv4_block1_3_conv (Conv2D)   (None, 4, 4, 1024)   263168      ['conv4_block1_2_relu[0][0]']    \n",
            "                                                                                                  \n",
            " conv4_block1_0_bn (BatchNormal  (None, 4, 4, 1024)  4096        ['conv4_block1_0_conv[0][0]']    \n",
            " ization)                                                                                         \n",
            "                                                                                                  \n",
            " conv4_block1_3_bn (BatchNormal  (None, 4, 4, 1024)  4096        ['conv4_block1_3_conv[0][0]']    \n",
            " ization)                                                                                         \n",
            "                                                                                                  \n",
            " conv4_block1_add (Add)         (None, 4, 4, 1024)   0           ['conv4_block1_0_bn[0][0]',      \n",
            "                                                                  'conv4_block1_3_bn[0][0]']      \n",
            "                                                                                                  \n",
            " conv4_block1_out (Activation)  (None, 4, 4, 1024)   0           ['conv4_block1_add[0][0]']       \n",
            "                                                                                                  \n",
            " conv4_block2_1_conv (Conv2D)   (None, 4, 4, 256)    262400      ['conv4_block1_out[0][0]']       \n",
            "                                                                                                  \n",
            " conv4_block2_1_bn (BatchNormal  (None, 4, 4, 256)   1024        ['conv4_block2_1_conv[0][0]']    \n",
            " ization)                                                                                         \n",
            "                                                                                                  \n",
            " conv4_block2_1_relu (Activatio  (None, 4, 4, 256)   0           ['conv4_block2_1_bn[0][0]']      \n",
            " n)                                                                                               \n",
            "                                                                                                  \n",
            " conv4_block2_2_conv (Conv2D)   (None, 4, 4, 256)    590080      ['conv4_block2_1_relu[0][0]']    \n",
            "                                                                                                  \n",
            " conv4_block2_2_bn (BatchNormal  (None, 4, 4, 256)   1024        ['conv4_block2_2_conv[0][0]']    \n",
            " ization)                                                                                         \n",
            "                                                                                                  \n",
            " conv4_block2_2_relu (Activatio  (None, 4, 4, 256)   0           ['conv4_block2_2_bn[0][0]']      \n",
            " n)                                                                                               \n",
            "                                                                                                  \n",
            " conv4_block2_3_conv (Conv2D)   (None, 4, 4, 1024)   263168      ['conv4_block2_2_relu[0][0]']    \n",
            "                                                                                                  \n",
            " conv4_block2_3_bn (BatchNormal  (None, 4, 4, 1024)  4096        ['conv4_block2_3_conv[0][0]']    \n",
            " ization)                                                                                         \n",
            "                                                                                                  \n",
            " conv4_block2_add (Add)         (None, 4, 4, 1024)   0           ['conv4_block1_out[0][0]',       \n",
            "                                                                  'conv4_block2_3_bn[0][0]']      \n",
            "                                                                                                  \n",
            " conv4_block2_out (Activation)  (None, 4, 4, 1024)   0           ['conv4_block2_add[0][0]']       \n",
            "                                                                                                  \n",
            " conv4_block3_1_conv (Conv2D)   (None, 4, 4, 256)    262400      ['conv4_block2_out[0][0]']       \n",
            "                                                                                                  \n",
            " conv4_block3_1_bn (BatchNormal  (None, 4, 4, 256)   1024        ['conv4_block3_1_conv[0][0]']    \n",
            " ization)                                                                                         \n",
            "                                                                                                  \n",
            " conv4_block3_1_relu (Activatio  (None, 4, 4, 256)   0           ['conv4_block3_1_bn[0][0]']      \n",
            " n)                                                                                               \n",
            "                                                                                                  \n",
            " conv4_block3_2_conv (Conv2D)   (None, 4, 4, 256)    590080      ['conv4_block3_1_relu[0][0]']    \n",
            "                                                                                                  \n",
            " conv4_block3_2_bn (BatchNormal  (None, 4, 4, 256)   1024        ['conv4_block3_2_conv[0][0]']    \n",
            " ization)                                                                                         \n",
            "                                                                                                  \n",
            " conv4_block3_2_relu (Activatio  (None, 4, 4, 256)   0           ['conv4_block3_2_bn[0][0]']      \n",
            " n)                                                                                               \n",
            "                                                                                                  \n",
            " conv4_block3_3_conv (Conv2D)   (None, 4, 4, 1024)   263168      ['conv4_block3_2_relu[0][0]']    \n",
            "                                                                                                  \n",
            " conv4_block3_3_bn (BatchNormal  (None, 4, 4, 1024)  4096        ['conv4_block3_3_conv[0][0]']    \n",
            " ization)                                                                                         \n",
            "                                                                                                  \n",
            " conv4_block3_add (Add)         (None, 4, 4, 1024)   0           ['conv4_block2_out[0][0]',       \n",
            "                                                                  'conv4_block3_3_bn[0][0]']      \n",
            "                                                                                                  \n",
            " conv4_block3_out (Activation)  (None, 4, 4, 1024)   0           ['conv4_block3_add[0][0]']       \n",
            "                                                                                                  \n",
            " conv4_block4_1_conv (Conv2D)   (None, 4, 4, 256)    262400      ['conv4_block3_out[0][0]']       \n",
            "                                                                                                  \n",
            " conv4_block4_1_bn (BatchNormal  (None, 4, 4, 256)   1024        ['conv4_block4_1_conv[0][0]']    \n",
            " ization)                                                                                         \n",
            "                                                                                                  \n",
            " conv4_block4_1_relu (Activatio  (None, 4, 4, 256)   0           ['conv4_block4_1_bn[0][0]']      \n",
            " n)                                                                                               \n",
            "                                                                                                  \n",
            " conv4_block4_2_conv (Conv2D)   (None, 4, 4, 256)    590080      ['conv4_block4_1_relu[0][0]']    \n",
            "                                                                                                  \n",
            " conv4_block4_2_bn (BatchNormal  (None, 4, 4, 256)   1024        ['conv4_block4_2_conv[0][0]']    \n",
            " ization)                                                                                         \n",
            "                                                                                                  \n",
            " conv4_block4_2_relu (Activatio  (None, 4, 4, 256)   0           ['conv4_block4_2_bn[0][0]']      \n",
            " n)                                                                                               \n",
            "                                                                                                  \n",
            " conv4_block4_3_conv (Conv2D)   (None, 4, 4, 1024)   263168      ['conv4_block4_2_relu[0][0]']    \n",
            "                                                                                                  \n",
            " conv4_block4_3_bn (BatchNormal  (None, 4, 4, 1024)  4096        ['conv4_block4_3_conv[0][0]']    \n",
            " ization)                                                                                         \n",
            "                                                                                                  \n",
            " conv4_block4_add (Add)         (None, 4, 4, 1024)   0           ['conv4_block3_out[0][0]',       \n",
            "                                                                  'conv4_block4_3_bn[0][0]']      \n",
            "                                                                                                  \n",
            " conv4_block4_out (Activation)  (None, 4, 4, 1024)   0           ['conv4_block4_add[0][0]']       \n",
            "                                                                                                  \n",
            " conv4_block5_1_conv (Conv2D)   (None, 4, 4, 256)    262400      ['conv4_block4_out[0][0]']       \n",
            "                                                                                                  \n",
            " conv4_block5_1_bn (BatchNormal  (None, 4, 4, 256)   1024        ['conv4_block5_1_conv[0][0]']    \n",
            " ization)                                                                                         \n",
            "                                                                                                  \n",
            " conv4_block5_1_relu (Activatio  (None, 4, 4, 256)   0           ['conv4_block5_1_bn[0][0]']      \n",
            " n)                                                                                               \n",
            "                                                                                                  \n",
            " conv4_block5_2_conv (Conv2D)   (None, 4, 4, 256)    590080      ['conv4_block5_1_relu[0][0]']    \n",
            "                                                                                                  \n",
            " conv4_block5_2_bn (BatchNormal  (None, 4, 4, 256)   1024        ['conv4_block5_2_conv[0][0]']    \n",
            " ization)                                                                                         \n",
            "                                                                                                  \n",
            " conv4_block5_2_relu (Activatio  (None, 4, 4, 256)   0           ['conv4_block5_2_bn[0][0]']      \n",
            " n)                                                                                               \n",
            "                                                                                                  \n",
            " conv4_block5_3_conv (Conv2D)   (None, 4, 4, 1024)   263168      ['conv4_block5_2_relu[0][0]']    \n",
            "                                                                                                  \n",
            " conv4_block5_3_bn (BatchNormal  (None, 4, 4, 1024)  4096        ['conv4_block5_3_conv[0][0]']    \n",
            " ization)                                                                                         \n",
            "                                                                                                  \n",
            " conv4_block5_add (Add)         (None, 4, 4, 1024)   0           ['conv4_block4_out[0][0]',       \n",
            "                                                                  'conv4_block5_3_bn[0][0]']      \n",
            "                                                                                                  \n",
            " conv4_block5_out (Activation)  (None, 4, 4, 1024)   0           ['conv4_block5_add[0][0]']       \n",
            "                                                                                                  \n",
            " conv4_block6_1_conv (Conv2D)   (None, 4, 4, 256)    262400      ['conv4_block5_out[0][0]']       \n",
            "                                                                                                  \n",
            " conv4_block6_1_bn (BatchNormal  (None, 4, 4, 256)   1024        ['conv4_block6_1_conv[0][0]']    \n",
            " ization)                                                                                         \n",
            "                                                                                                  \n",
            " conv4_block6_1_relu (Activatio  (None, 4, 4, 256)   0           ['conv4_block6_1_bn[0][0]']      \n",
            " n)                                                                                               \n",
            "                                                                                                  \n",
            " conv4_block6_2_conv (Conv2D)   (None, 4, 4, 256)    590080      ['conv4_block6_1_relu[0][0]']    \n",
            "                                                                                                  \n",
            " conv4_block6_2_bn (BatchNormal  (None, 4, 4, 256)   1024        ['conv4_block6_2_conv[0][0]']    \n",
            " ization)                                                                                         \n",
            "                                                                                                  \n",
            " conv4_block6_2_relu (Activatio  (None, 4, 4, 256)   0           ['conv4_block6_2_bn[0][0]']      \n",
            " n)                                                                                               \n",
            "                                                                                                  \n",
            " conv4_block6_3_conv (Conv2D)   (None, 4, 4, 1024)   263168      ['conv4_block6_2_relu[0][0]']    \n",
            "                                                                                                  \n",
            " conv4_block6_3_bn (BatchNormal  (None, 4, 4, 1024)  4096        ['conv4_block6_3_conv[0][0]']    \n",
            " ization)                                                                                         \n",
            "                                                                                                  \n",
            " conv4_block6_add (Add)         (None, 4, 4, 1024)   0           ['conv4_block5_out[0][0]',       \n",
            "                                                                  'conv4_block6_3_bn[0][0]']      \n",
            "                                                                                                  \n",
            " conv4_block6_out (Activation)  (None, 4, 4, 1024)   0           ['conv4_block6_add[0][0]']       \n",
            "                                                                                                  \n",
            " conv5_block1_1_conv (Conv2D)   (None, 2, 2, 512)    524800      ['conv4_block6_out[0][0]']       \n",
            "                                                                                                  \n",
            " conv5_block1_1_bn (BatchNormal  (None, 2, 2, 512)   2048        ['conv5_block1_1_conv[0][0]']    \n",
            " ization)                                                                                         \n",
            "                                                                                                  \n",
            " conv5_block1_1_relu (Activatio  (None, 2, 2, 512)   0           ['conv5_block1_1_bn[0][0]']      \n",
            " n)                                                                                               \n",
            "                                                                                                  \n",
            " conv5_block1_2_conv (Conv2D)   (None, 2, 2, 512)    2359808     ['conv5_block1_1_relu[0][0]']    \n",
            "                                                                                                  \n",
            " conv5_block1_2_bn (BatchNormal  (None, 2, 2, 512)   2048        ['conv5_block1_2_conv[0][0]']    \n",
            " ization)                                                                                         \n",
            "                                                                                                  \n",
            " conv5_block1_2_relu (Activatio  (None, 2, 2, 512)   0           ['conv5_block1_2_bn[0][0]']      \n",
            " n)                                                                                               \n",
            "                                                                                                  \n",
            " conv5_block1_0_conv (Conv2D)   (None, 2, 2, 2048)   2099200     ['conv4_block6_out[0][0]']       \n",
            "                                                                                                  \n",
            " conv5_block1_3_conv (Conv2D)   (None, 2, 2, 2048)   1050624     ['conv5_block1_2_relu[0][0]']    \n",
            "                                                                                                  \n",
            " conv5_block1_0_bn (BatchNormal  (None, 2, 2, 2048)  8192        ['conv5_block1_0_conv[0][0]']    \n",
            " ization)                                                                                         \n",
            "                                                                                                  \n",
            " conv5_block1_3_bn (BatchNormal  (None, 2, 2, 2048)  8192        ['conv5_block1_3_conv[0][0]']    \n",
            " ization)                                                                                         \n",
            "                                                                                                  \n",
            " conv5_block1_add (Add)         (None, 2, 2, 2048)   0           ['conv5_block1_0_bn[0][0]',      \n",
            "                                                                  'conv5_block1_3_bn[0][0]']      \n",
            "                                                                                                  \n",
            " conv5_block1_out (Activation)  (None, 2, 2, 2048)   0           ['conv5_block1_add[0][0]']       \n",
            "                                                                                                  \n",
            " conv5_block2_1_conv (Conv2D)   (None, 2, 2, 512)    1049088     ['conv5_block1_out[0][0]']       \n",
            "                                                                                                  \n",
            " conv5_block2_1_bn (BatchNormal  (None, 2, 2, 512)   2048        ['conv5_block2_1_conv[0][0]']    \n",
            " ization)                                                                                         \n",
            "                                                                                                  \n",
            " conv5_block2_1_relu (Activatio  (None, 2, 2, 512)   0           ['conv5_block2_1_bn[0][0]']      \n",
            " n)                                                                                               \n",
            "                                                                                                  \n",
            " conv5_block2_2_conv (Conv2D)   (None, 2, 2, 512)    2359808     ['conv5_block2_1_relu[0][0]']    \n",
            "                                                                                                  \n",
            " conv5_block2_2_bn (BatchNormal  (None, 2, 2, 512)   2048        ['conv5_block2_2_conv[0][0]']    \n",
            " ization)                                                                                         \n",
            "                                                                                                  \n",
            " conv5_block2_2_relu (Activatio  (None, 2, 2, 512)   0           ['conv5_block2_2_bn[0][0]']      \n",
            " n)                                                                                               \n",
            "                                                                                                  \n",
            " conv5_block2_3_conv (Conv2D)   (None, 2, 2, 2048)   1050624     ['conv5_block2_2_relu[0][0]']    \n",
            "                                                                                                  \n",
            " conv5_block2_3_bn (BatchNormal  (None, 2, 2, 2048)  8192        ['conv5_block2_3_conv[0][0]']    \n",
            " ization)                                                                                         \n",
            "                                                                                                  \n",
            " conv5_block2_add (Add)         (None, 2, 2, 2048)   0           ['conv5_block1_out[0][0]',       \n",
            "                                                                  'conv5_block2_3_bn[0][0]']      \n",
            "                                                                                                  \n",
            " conv5_block2_out (Activation)  (None, 2, 2, 2048)   0           ['conv5_block2_add[0][0]']       \n",
            "                                                                                                  \n",
            " conv5_block3_1_conv (Conv2D)   (None, 2, 2, 512)    1049088     ['conv5_block2_out[0][0]']       \n",
            "                                                                                                  \n",
            " conv5_block3_1_bn (BatchNormal  (None, 2, 2, 512)   2048        ['conv5_block3_1_conv[0][0]']    \n",
            " ization)                                                                                         \n",
            "                                                                                                  \n",
            " conv5_block3_1_relu (Activatio  (None, 2, 2, 512)   0           ['conv5_block3_1_bn[0][0]']      \n",
            " n)                                                                                               \n",
            "                                                                                                  \n",
            " conv5_block3_2_conv (Conv2D)   (None, 2, 2, 512)    2359808     ['conv5_block3_1_relu[0][0]']    \n",
            "                                                                                                  \n",
            " conv5_block3_2_bn (BatchNormal  (None, 2, 2, 512)   2048        ['conv5_block3_2_conv[0][0]']    \n",
            " ization)                                                                                         \n",
            "                                                                                                  \n",
            " conv5_block3_2_relu (Activatio  (None, 2, 2, 512)   0           ['conv5_block3_2_bn[0][0]']      \n",
            " n)                                                                                               \n",
            "                                                                                                  \n",
            " conv5_block3_3_conv (Conv2D)   (None, 2, 2, 2048)   1050624     ['conv5_block3_2_relu[0][0]']    \n",
            "                                                                                                  \n",
            " conv5_block3_3_bn (BatchNormal  (None, 2, 2, 2048)  8192        ['conv5_block3_3_conv[0][0]']    \n",
            " ization)                                                                                         \n",
            "                                                                                                  \n",
            " conv5_block3_add (Add)         (None, 2, 2, 2048)   0           ['conv5_block2_out[0][0]',       \n",
            "                                                                  'conv5_block3_3_bn[0][0]']      \n",
            "                                                                                                  \n",
            " conv5_block3_out (Activation)  (None, 2, 2, 2048)   0           ['conv5_block3_add[0][0]']       \n",
            "                                                                                                  \n",
            "==================================================================================================\n",
            "Total params: 23,587,712\n",
            "Trainable params: 23,534,592\n",
            "Non-trainable params: 53,120\n",
            "__________________________________________________________________________________________________\n"
          ]
        }
      ]
    },
    {
      "cell_type": "code",
      "source": [
        "for i, l in enumerate(resModel2.layers):\n",
        "  print(i, l.name, \" - \", l.trainable)"
      ],
      "metadata": {
        "colab": {
          "base_uri": "https://localhost:8080/"
        },
        "id": "g6lJqPvJwlho",
        "outputId": "c243b423-538b-466a-9125-dd2c7712efd2"
      },
      "execution_count": null,
      "outputs": [
        {
          "output_type": "stream",
          "name": "stdout",
          "text": [
            "0 input_1  -  True\n",
            "1 conv1_pad  -  True\n",
            "2 conv1_conv  -  True\n",
            "3 conv1_bn  -  True\n",
            "4 conv1_relu  -  True\n",
            "5 pool1_pad  -  True\n",
            "6 pool1_pool  -  True\n",
            "7 conv2_block1_1_conv  -  True\n",
            "8 conv2_block1_1_bn  -  True\n",
            "9 conv2_block1_1_relu  -  True\n",
            "10 conv2_block1_2_conv  -  True\n",
            "11 conv2_block1_2_bn  -  True\n",
            "12 conv2_block1_2_relu  -  True\n",
            "13 conv2_block1_0_conv  -  True\n",
            "14 conv2_block1_3_conv  -  True\n",
            "15 conv2_block1_0_bn  -  True\n",
            "16 conv2_block1_3_bn  -  True\n",
            "17 conv2_block1_add  -  True\n",
            "18 conv2_block1_out  -  True\n",
            "19 conv2_block2_1_conv  -  True\n",
            "20 conv2_block2_1_bn  -  True\n",
            "21 conv2_block2_1_relu  -  True\n",
            "22 conv2_block2_2_conv  -  True\n",
            "23 conv2_block2_2_bn  -  True\n",
            "24 conv2_block2_2_relu  -  True\n",
            "25 conv2_block2_3_conv  -  True\n",
            "26 conv2_block2_3_bn  -  True\n",
            "27 conv2_block2_add  -  True\n",
            "28 conv2_block2_out  -  True\n",
            "29 conv2_block3_1_conv  -  True\n",
            "30 conv2_block3_1_bn  -  True\n",
            "31 conv2_block3_1_relu  -  True\n",
            "32 conv2_block3_2_conv  -  True\n",
            "33 conv2_block3_2_bn  -  True\n",
            "34 conv2_block3_2_relu  -  True\n",
            "35 conv2_block3_3_conv  -  True\n",
            "36 conv2_block3_3_bn  -  True\n",
            "37 conv2_block3_add  -  True\n",
            "38 conv2_block3_out  -  True\n",
            "39 conv3_block1_1_conv  -  True\n",
            "40 conv3_block1_1_bn  -  True\n",
            "41 conv3_block1_1_relu  -  True\n",
            "42 conv3_block1_2_conv  -  True\n",
            "43 conv3_block1_2_bn  -  True\n",
            "44 conv3_block1_2_relu  -  True\n",
            "45 conv3_block1_0_conv  -  True\n",
            "46 conv3_block1_3_conv  -  True\n",
            "47 conv3_block1_0_bn  -  True\n",
            "48 conv3_block1_3_bn  -  True\n",
            "49 conv3_block1_add  -  True\n",
            "50 conv3_block1_out  -  True\n",
            "51 conv3_block2_1_conv  -  True\n",
            "52 conv3_block2_1_bn  -  True\n",
            "53 conv3_block2_1_relu  -  True\n",
            "54 conv3_block2_2_conv  -  True\n",
            "55 conv3_block2_2_bn  -  True\n",
            "56 conv3_block2_2_relu  -  True\n",
            "57 conv3_block2_3_conv  -  True\n",
            "58 conv3_block2_3_bn  -  True\n",
            "59 conv3_block2_add  -  True\n",
            "60 conv3_block2_out  -  True\n",
            "61 conv3_block3_1_conv  -  True\n",
            "62 conv3_block3_1_bn  -  True\n",
            "63 conv3_block3_1_relu  -  True\n",
            "64 conv3_block3_2_conv  -  True\n",
            "65 conv3_block3_2_bn  -  True\n",
            "66 conv3_block3_2_relu  -  True\n",
            "67 conv3_block3_3_conv  -  True\n",
            "68 conv3_block3_3_bn  -  True\n",
            "69 conv3_block3_add  -  True\n",
            "70 conv3_block3_out  -  True\n",
            "71 conv3_block4_1_conv  -  True\n",
            "72 conv3_block4_1_bn  -  True\n",
            "73 conv3_block4_1_relu  -  True\n",
            "74 conv3_block4_2_conv  -  True\n",
            "75 conv3_block4_2_bn  -  True\n",
            "76 conv3_block4_2_relu  -  True\n",
            "77 conv3_block4_3_conv  -  True\n",
            "78 conv3_block4_3_bn  -  True\n",
            "79 conv3_block4_add  -  True\n",
            "80 conv3_block4_out  -  True\n",
            "81 conv4_block1_1_conv  -  True\n",
            "82 conv4_block1_1_bn  -  True\n",
            "83 conv4_block1_1_relu  -  True\n",
            "84 conv4_block1_2_conv  -  True\n",
            "85 conv4_block1_2_bn  -  True\n",
            "86 conv4_block1_2_relu  -  True\n",
            "87 conv4_block1_0_conv  -  True\n",
            "88 conv4_block1_3_conv  -  True\n",
            "89 conv4_block1_0_bn  -  True\n",
            "90 conv4_block1_3_bn  -  True\n",
            "91 conv4_block1_add  -  True\n",
            "92 conv4_block1_out  -  True\n",
            "93 conv4_block2_1_conv  -  True\n",
            "94 conv4_block2_1_bn  -  True\n",
            "95 conv4_block2_1_relu  -  True\n",
            "96 conv4_block2_2_conv  -  True\n",
            "97 conv4_block2_2_bn  -  True\n",
            "98 conv4_block2_2_relu  -  True\n",
            "99 conv4_block2_3_conv  -  True\n",
            "100 conv4_block2_3_bn  -  True\n",
            "101 conv4_block2_add  -  True\n",
            "102 conv4_block2_out  -  True\n",
            "103 conv4_block3_1_conv  -  True\n",
            "104 conv4_block3_1_bn  -  True\n",
            "105 conv4_block3_1_relu  -  True\n",
            "106 conv4_block3_2_conv  -  True\n",
            "107 conv4_block3_2_bn  -  True\n",
            "108 conv4_block3_2_relu  -  True\n",
            "109 conv4_block3_3_conv  -  True\n",
            "110 conv4_block3_3_bn  -  True\n",
            "111 conv4_block3_add  -  True\n",
            "112 conv4_block3_out  -  True\n",
            "113 conv4_block4_1_conv  -  True\n",
            "114 conv4_block4_1_bn  -  True\n",
            "115 conv4_block4_1_relu  -  True\n",
            "116 conv4_block4_2_conv  -  True\n",
            "117 conv4_block4_2_bn  -  True\n",
            "118 conv4_block4_2_relu  -  True\n",
            "119 conv4_block4_3_conv  -  True\n",
            "120 conv4_block4_3_bn  -  True\n",
            "121 conv4_block4_add  -  True\n",
            "122 conv4_block4_out  -  True\n",
            "123 conv4_block5_1_conv  -  True\n",
            "124 conv4_block5_1_bn  -  True\n",
            "125 conv4_block5_1_relu  -  True\n",
            "126 conv4_block5_2_conv  -  True\n",
            "127 conv4_block5_2_bn  -  True\n",
            "128 conv4_block5_2_relu  -  True\n",
            "129 conv4_block5_3_conv  -  True\n",
            "130 conv4_block5_3_bn  -  True\n",
            "131 conv4_block5_add  -  True\n",
            "132 conv4_block5_out  -  True\n",
            "133 conv4_block6_1_conv  -  True\n",
            "134 conv4_block6_1_bn  -  True\n",
            "135 conv4_block6_1_relu  -  True\n",
            "136 conv4_block6_2_conv  -  True\n",
            "137 conv4_block6_2_bn  -  True\n",
            "138 conv4_block6_2_relu  -  True\n",
            "139 conv4_block6_3_conv  -  True\n",
            "140 conv4_block6_3_bn  -  True\n",
            "141 conv4_block6_add  -  True\n",
            "142 conv4_block6_out  -  True\n",
            "143 conv5_block1_1_conv  -  True\n",
            "144 conv5_block1_1_bn  -  True\n",
            "145 conv5_block1_1_relu  -  True\n",
            "146 conv5_block1_2_conv  -  True\n",
            "147 conv5_block1_2_bn  -  True\n",
            "148 conv5_block1_2_relu  -  True\n",
            "149 conv5_block1_0_conv  -  True\n",
            "150 conv5_block1_3_conv  -  True\n",
            "151 conv5_block1_0_bn  -  True\n",
            "152 conv5_block1_3_bn  -  True\n",
            "153 conv5_block1_add  -  True\n",
            "154 conv5_block1_out  -  True\n",
            "155 conv5_block2_1_conv  -  True\n",
            "156 conv5_block2_1_bn  -  True\n",
            "157 conv5_block2_1_relu  -  True\n",
            "158 conv5_block2_2_conv  -  True\n",
            "159 conv5_block2_2_bn  -  True\n",
            "160 conv5_block2_2_relu  -  True\n",
            "161 conv5_block2_3_conv  -  True\n",
            "162 conv5_block2_3_bn  -  True\n",
            "163 conv5_block2_add  -  True\n",
            "164 conv5_block2_out  -  True\n",
            "165 conv5_block3_1_conv  -  True\n",
            "166 conv5_block3_1_bn  -  True\n",
            "167 conv5_block3_1_relu  -  True\n",
            "168 conv5_block3_2_conv  -  True\n",
            "169 conv5_block3_2_bn  -  True\n",
            "170 conv5_block3_2_relu  -  True\n",
            "171 conv5_block3_3_conv  -  True\n",
            "172 conv5_block3_3_bn  -  True\n",
            "173 conv5_block3_add  -  True\n",
            "174 conv5_block3_out  -  True\n"
          ]
        }
      ]
    },
    {
      "cell_type": "code",
      "source": [
        "model2 = tensorflow.keras.models.Sequential()\n",
        "model2.add(resModel2)\n",
        "model2.add(tensorflow.keras.layers.Flatten())\n",
        "#model2.add(tensorflow.keras.layers.Dense(512, activation=\"relu\"))\n",
        "#model2.add(tensorflow.keras.layers.Dropout(0.5))\n",
        "model2.add(tensorflow.keras.layers.Dense(128, activation=\"relu\"))\n",
        "model2.add(tensorflow.keras.layers.Dropout(0.5))\n",
        "model2.add(tensorflow.keras.layers.Dense(3, activation=\"softmax\"))"
      ],
      "metadata": {
        "id": "ATTdrkz2wqAy"
      },
      "execution_count": null,
      "outputs": []
    },
    {
      "cell_type": "code",
      "source": [
        "model2.summary()"
      ],
      "metadata": {
        "colab": {
          "base_uri": "https://localhost:8080/"
        },
        "id": "7pLPuGvuwqC_",
        "outputId": "0d445751-f7d6-4b6f-a391-49d4b71d76a3"
      },
      "execution_count": null,
      "outputs": [
        {
          "output_type": "stream",
          "name": "stdout",
          "text": [
            "Model: \"sequential\"\n",
            "_________________________________________________________________\n",
            " Layer (type)                Output Shape              Param #   \n",
            "=================================================================\n",
            " resnet50 (Functional)       (None, 2, 2, 2048)        23587712  \n",
            "                                                                 \n",
            " flatten (Flatten)           (None, 8192)              0         \n",
            "                                                                 \n",
            " dense (Dense)               (None, 128)               1048704   \n",
            "                                                                 \n",
            " dropout (Dropout)           (None, 128)               0         \n",
            "                                                                 \n",
            " dense_1 (Dense)             (None, 3)                 387       \n",
            "                                                                 \n",
            "=================================================================\n",
            "Total params: 24,636,803\n",
            "Trainable params: 24,583,683\n",
            "Non-trainable params: 53,120\n",
            "_________________________________________________________________\n"
          ]
        }
      ]
    },
    {
      "cell_type": "code",
      "source": [
        "model2.compile(optimizer = \"adam\",\n",
        "              loss=\"categorical_crossentropy\",\n",
        "              metrics=['accuracy'])"
      ],
      "metadata": {
        "id": "LXxKCqSlwqGc"
      },
      "execution_count": null,
      "outputs": []
    },
    {
      "cell_type": "code",
      "source": [
        "history2 = model2.fit(X_train, y_train, epochs = 10, batch_size = 64, validation_data = (X_eval, y_eval))"
      ],
      "metadata": {
        "colab": {
          "base_uri": "https://localhost:8080/"
        },
        "id": "uBjq0Bigwlka",
        "outputId": "d15a0d13-84e0-41bc-effa-f635c7910aa7"
      },
      "execution_count": null,
      "outputs": [
        {
          "output_type": "stream",
          "name": "stdout",
          "text": [
            "Epoch 1/10\n",
            "26/26 [==============================] - 319s 11s/step - loss: 0.7995 - accuracy: 0.7900 - val_loss: 4464.5615 - val_accuracy: 0.4849\n",
            "Epoch 2/10\n",
            "26/26 [==============================] - 299s 12s/step - loss: 0.1101 - accuracy: 0.9611 - val_loss: 1268.1230 - val_accuracy: 0.4849\n",
            "Epoch 3/10\n",
            "26/26 [==============================] - 299s 12s/step - loss: 0.0757 - accuracy: 0.9765 - val_loss: 346.5652 - val_accuracy: 0.4849\n",
            "Epoch 4/10\n",
            "26/26 [==============================] - 300s 12s/step - loss: 0.2293 - accuracy: 0.9327 - val_loss: 2254.9172 - val_accuracy: 0.4849\n",
            "Epoch 5/10\n",
            "26/26 [==============================] - 293s 11s/step - loss: 0.0805 - accuracy: 0.9697 - val_loss: 776.0784 - val_accuracy: 0.4849\n",
            "Epoch 6/10\n",
            "26/26 [==============================] - 292s 11s/step - loss: 0.0220 - accuracy: 0.9938 - val_loss: 101.2813 - val_accuracy: 0.4849\n",
            "Epoch 7/10\n",
            "26/26 [==============================] - 290s 11s/step - loss: 0.0781 - accuracy: 0.9833 - val_loss: 228.4552 - val_accuracy: 0.4849\n",
            "Epoch 8/10\n",
            "26/26 [==============================] - 294s 11s/step - loss: 0.0384 - accuracy: 0.9839 - val_loss: 242.0318 - val_accuracy: 0.4849\n",
            "Epoch 9/10\n",
            "26/26 [==============================] - 290s 11s/step - loss: 0.0422 - accuracy: 0.9907 - val_loss: 173.5032 - val_accuracy: 0.4849\n",
            "Epoch 10/10\n",
            "26/26 [==============================] - 319s 12s/step - loss: 0.0301 - accuracy: 0.9926 - val_loss: 116.5889 - val_accuracy: 0.4849\n"
          ]
        }
      ]
    },
    {
      "cell_type": "code",
      "source": [
        "results(model2,history2, X_test, y_test)"
      ],
      "metadata": {
        "colab": {
          "base_uri": "https://localhost:8080/",
          "height": 306
        },
        "id": "KitCxfQngjrh",
        "outputId": "5bdbd228-4686-43a0-a633-abcf6f09cb2e"
      },
      "execution_count": null,
      "outputs": [
        {
          "output_type": "stream",
          "name": "stdout",
          "text": [
            "1/1 [==============================] - 2s 2s/step - loss: 157.0567 - accuracy: 0.3333\n",
            "Test accuracy: 0.3333333432674408\n",
            "Test loss: 157.0566864013672\n"
          ]
        },
        {
          "output_type": "display_data",
          "data": {
            "text/plain": [
              "<Figure size 864x864 with 2 Axes>"
            ],
            "image/png": "[encoded data removed]"
          },
          "metadata": {
            "needs_background": "light"
          }
        }
      ]
    },
    {
      "cell_type": "code",
      "source": [
        "model2.save('Resnet.h5')"
      ],
      "metadata": {
        "id": "p1Bjq-Kngjt1"
      },
      "execution_count": null,
      "outputs": []
    },
    {
      "cell_type": "code",
      "source": [
        "y_test_pred = model2.predict(X_test, batch_size = 32, verbose = 0)\n",
        "plot_confusion_matrix(y_test, y_test_pred)"
      ],
      "metadata": {
        "colab": {
          "base_uri": "https://localhost:8080/",
          "height": 868
        },
        "id": "LkJ_eV7tgjwL",
        "outputId": "02d65553-52bd-40d4-d0f9-61c3c405bcae"
      },
      "execution_count": null,
      "outputs": [
        {
          "output_type": "display_data",
          "data": {
            "text/plain": [
              "<Figure size 1080x1080 with 2 Axes>"
            ],
            "image/png": "[encoded data removed]"
          },
          "metadata": {
            "needs_background": "light"
          }
        }
      ]
    },
    {
      "cell_type": "code",
      "source": [],
      "metadata": {
        "id": "o67-7_kegjyh"
      },
      "execution_count": null,
      "outputs": []
    },
    {
      "cell_type": "code",
      "source": [],
      "metadata": {
        "id": "UwTidZUpgj1I"
      },
      "execution_count": null,
      "outputs": []
    }
  ]
}